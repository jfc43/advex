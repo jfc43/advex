{
 "cells": [
  {
   "cell_type": "code",
   "execution_count": 1,
   "metadata": {},
   "outputs": [],
   "source": [
    "import matplotlib as mpl\n",
    "from utils import plot\n",
    "import matplotlib.pyplot as plt\n",
    "import numpy as np\n",
    "import _pickle as pkl\n",
    "import scipy.stats as stats\n",
    "import tensorflow as tf\n",
    "import time\n",
    "from utils import dataReader, get_session, integrated_gradients, softmax, gini\n",
    "from model import Model"
   ]
  },
  {
   "cell_type": "code",
   "execution_count": 2,
   "metadata": {},
   "outputs": [],
   "source": [
    "semantic_labels = ['T-shirt', 'Trouser', 'Pullover', 'Dress', 'Coat', 'Sandal', 'Shirt', 'Sneaker', 'Bag', 'Ankle boot']"
   ]
  },
  {
   "cell_type": "code",
   "execution_count": 3,
   "metadata": {},
   "outputs": [
    {
     "name": "stdout",
     "output_type": "stream",
     "text": [
      "WARNING:tensorflow:From /nobackup/jiefeng/Projects/advex/DNN-Experiments/Fashion-MNIST/utils.py:81: read_data_sets (from tensorflow.contrib.learn.python.learn.datasets.mnist) is deprecated and will be removed in a future version.\n",
      "Instructions for updating:\n",
      "Please use alternatives such as official/mnist/dataset.py from tensorflow/models.\n",
      "WARNING:tensorflow:From /nobackup/jiefeng/ENV/lib/python3.6/site-packages/tensorflow_core/contrib/learn/python/learn/datasets/mnist.py:260: maybe_download (from tensorflow.contrib.learn.python.learn.datasets.base) is deprecated and will be removed in a future version.\n",
      "Instructions for updating:\n",
      "Please write your own downloading logic.\n",
      "WARNING:tensorflow:From /nobackup/jiefeng/ENV/lib/python3.6/site-packages/tensorflow_core/contrib/learn/python/learn/datasets/mnist.py:262: extract_images (from tensorflow.contrib.learn.python.learn.datasets.mnist) is deprecated and will be removed in a future version.\n",
      "Instructions for updating:\n",
      "Please use tf.data to implement this functionality.\n",
      "Extracting data/fashion/train-images-idx3-ubyte.gz\n",
      "WARNING:tensorflow:From /nobackup/jiefeng/ENV/lib/python3.6/site-packages/tensorflow_core/contrib/learn/python/learn/datasets/mnist.py:267: extract_labels (from tensorflow.contrib.learn.python.learn.datasets.mnist) is deprecated and will be removed in a future version.\n",
      "Instructions for updating:\n",
      "Please use tf.data to implement this functionality.\n",
      "Extracting data/fashion/train-labels-idx1-ubyte.gz\n",
      "Extracting data/fashion/t10k-images-idx3-ubyte.gz\n",
      "Extracting data/fashion/t10k-labels-idx1-ubyte.gz\n",
      "WARNING:tensorflow:From /nobackup/jiefeng/ENV/lib/python3.6/site-packages/tensorflow_core/contrib/learn/python/learn/datasets/mnist.py:290: DataSet.__init__ (from tensorflow.contrib.learn.python.learn.datasets.mnist) is deprecated and will be removed in a future version.\n",
      "Instructions for updating:\n",
      "Please use alternatives such as official/mnist/dataset.py from tensorflow/models.\n"
     ]
    }
   ],
   "source": [
    "X, y = dataReader()"
   ]
  },
  {
   "cell_type": "code",
   "execution_count": 4,
   "metadata": {},
   "outputs": [
    {
     "name": "stdout",
     "output_type": "stream",
     "text": [
      "Image ID: 500, Image Label : Pullover\n"
     ]
    },
    {
     "data": {
      "text/plain": [
       "<matplotlib.image.AxesImage at 0x7f6c90799940>"
      ]
     },
     "execution_count": 4,
     "metadata": {},
     "output_type": "execute_result"
    },
    {
     "data": {
      "image/png": "[encoded data removed]",
      "text/plain": [
       "<Figure size 432x288 with 1 Axes>"
      ]
     },
     "metadata": {
      "needs_background": "light"
     },
     "output_type": "display_data"
    }
   ],
   "source": [
    "n = 500\n",
    "original_label = y[n]\n",
    "test_image = X[n]\n",
    "plt.rcParams[\"figure.figsize\"]=8,8\n",
    "print(\"Image ID: {}, Image Label : {}\".format(n, semantic_labels[y[n]]))\n",
    "%matplotlib inline\n",
    "plt.imshow(X[n,:,:,0], cmap='gray')"
   ]
  },
  {
   "cell_type": "code",
   "execution_count": 5,
   "metadata": {},
   "outputs": [],
   "source": [
    "reference_image = np.zeros((28, 28, 1), dtype=np.float32)\n",
    "num_steps = 100"
   ]
  },
  {
   "cell_type": "markdown",
   "metadata": {},
   "source": [
    "# Natural Training"
   ]
  },
  {
   "cell_type": "code",
   "execution_count": 6,
   "metadata": {},
   "outputs": [
    {
     "name": "stdout",
     "output_type": "stream",
     "text": [
      "WARNING:tensorflow:From /nobackup/jiefeng/Projects/advex/DNN-Experiments/Fashion-MNIST/utils.py:87: The name tf.ConfigProto is deprecated. Please use tf.compat.v1.ConfigProto instead.\n",
      "\n",
      "WARNING:tensorflow:From /nobackup/jiefeng/Projects/advex/DNN-Experiments/Fashion-MNIST/utils.py:89: The name tf.Session is deprecated. Please use tf.compat.v1.Session instead.\n",
      "\n",
      "WARNING:tensorflow:From /nobackup/jiefeng/Projects/advex/DNN-Experiments/Fashion-MNIST/model.py:13: The name tf.placeholder is deprecated. Please use tf.compat.v1.placeholder instead.\n",
      "\n",
      "WARNING:tensorflow:From /nobackup/jiefeng/Projects/advex/DNN-Experiments/Fashion-MNIST/model.py:73: The name tf.truncated_normal is deprecated. Please use tf.random.truncated_normal instead.\n",
      "\n",
      "WARNING:tensorflow:From /nobackup/jiefeng/Projects/advex/DNN-Experiments/Fashion-MNIST/model.py:87: The name tf.nn.max_pool is deprecated. Please use tf.nn.max_pool2d instead.\n",
      "\n",
      "INFO:tensorflow:Restoring parameters from models/nat_trained/checkpoint-24900\n"
     ]
    }
   ],
   "source": [
    "tf.reset_default_graph()\n",
    "sess = get_session()\n",
    "model = Model()\n",
    "# restore models\n",
    "model_dir = 'models/nat_trained'\n",
    "\n",
    "saver = tf.train.Saver()\n",
    "checkpoint = tf.train.latest_checkpoint(model_dir)\n",
    "saver.restore(sess, checkpoint)"
   ]
  },
  {
   "cell_type": "code",
   "execution_count": 7,
   "metadata": {},
   "outputs": [
    {
     "name": "stdout",
     "output_type": "stream",
     "text": [
      "prediction: Pullover, confidence: 0.9998032450675964\n"
     ]
    }
   ],
   "source": [
    "nat_output = sess.run(model.output, feed_dict={model.input: [test_image]})\n",
    "nat_pred = softmax(nat_output)\n",
    "\n",
    "print('prediction: {}, confidence: {}'.format(semantic_labels[np.argmax(nat_pred)], np.max(nat_pred)))"
   ]
  },
  {
   "cell_type": "code",
   "execution_count": 8,
   "metadata": {},
   "outputs": [
    {
     "data": {
      "text/plain": [
       "<matplotlib.image.AxesImage at 0x7f6d25a0e2e8>"
      ]
     },
     "execution_count": 8,
     "metadata": {},
     "output_type": "execute_result"
    },
    {
     "data": {
      "image/png": "[encoded data removed]",
      "text/plain": [
       "<Figure size 576x576 with 2 Axes>"
      ]
     },
     "metadata": {
      "needs_background": "light"
     },
     "output_type": "display_data"
    }
   ],
   "source": [
    "IG = integrated_gradients(sess, reference_image, test_image, original_label, model, gradient_func='output_input_gradient', steps=num_steps)\n",
    "\n",
    "mpl.rcParams[\"figure.figsize\"]=8,8\n",
    "plt.rc(\"text\",usetex=False)\n",
    "plt.rc(\"font\",family=\"sans-serif\",size=12)\n",
    "saliency = np.sum(np.abs(IG),-1)\n",
    "nat_saliency = 28*28*saliency/np.sum(saliency)\n",
    "plt.subplot(1,2,1)\n",
    "plt.title(\"Image\")\n",
    "image = X[n,:,:,0]\n",
    "plt.imshow(image, cmap='gray')\n",
    "plt.subplot(1,2,2)\n",
    "plt.title(\"Image Saliency Map\")\n",
    "plt.imshow(nat_saliency, cmap=\"hot\")"
   ]
  },
  {
   "cell_type": "code",
   "execution_count": 9,
   "metadata": {},
   "outputs": [
    {
     "name": "stdout",
     "output_type": "stream",
     "text": [
      "The Gini for IG is: 0.5777714085730514\n"
     ]
    }
   ],
   "source": [
    "gini_v = gini(IG.flatten())\n",
    "print('The Gini for IG is:', gini_v)"
   ]
  },
  {
   "cell_type": "markdown",
   "metadata": {},
   "source": [
    "# Adversarial Traininig"
   ]
  },
  {
   "cell_type": "code",
   "execution_count": 10,
   "metadata": {},
   "outputs": [
    {
     "name": "stdout",
     "output_type": "stream",
     "text": [
      "INFO:tensorflow:Restoring parameters from models/adv_trained/checkpoint-99900\n"
     ]
    }
   ],
   "source": [
    "tf.reset_default_graph()\n",
    "sess = get_session()\n",
    "model = Model()\n",
    "# restore models\n",
    "model_dir = 'models/adv_trained'\n",
    "\n",
    "saver = tf.train.Saver()\n",
    "checkpoint = tf.train.latest_checkpoint(model_dir)\n",
    "saver.restore(sess, checkpoint)"
   ]
  },
  {
   "cell_type": "code",
   "execution_count": 11,
   "metadata": {},
   "outputs": [
    {
     "name": "stdout",
     "output_type": "stream",
     "text": [
      "prediction: Pullover, confidence: 0.6610631942749023\n"
     ]
    }
   ],
   "source": [
    "nat_output = sess.run(model.output, feed_dict={model.input: [test_image]})\n",
    "nat_pred = softmax(nat_output)\n",
    "\n",
    "print('prediction: {}, confidence: {}'.format(semantic_labels[np.argmax(nat_pred)], np.max(nat_pred)))"
   ]
  },
  {
   "cell_type": "code",
   "execution_count": 12,
   "metadata": {},
   "outputs": [
    {
     "data": {
      "text/plain": [
       "<matplotlib.image.AxesImage at 0x7f6d258c1b70>"
      ]
     },
     "execution_count": 12,
     "metadata": {},
     "output_type": "execute_result"
    },
    {
     "data": {
      "image/png": "[encoded data removed]",
      "text/plain": [
       "<Figure size 576x576 with 2 Axes>"
      ]
     },
     "metadata": {
      "needs_background": "light"
     },
     "output_type": "display_data"
    }
   ],
   "source": [
    "IG = integrated_gradients(sess, reference_image, test_image, original_label, model, gradient_func='output_input_gradient', steps=num_steps)\n",
    "\n",
    "mpl.rcParams[\"figure.figsize\"]=8,8\n",
    "plt.rc(\"text\",usetex=False)\n",
    "plt.rc(\"font\",family=\"sans-serif\",size=12)\n",
    "saliency = np.sum(np.abs(IG),-1)\n",
    "adv_saliency = 28*28*saliency/np.sum(saliency)\n",
    "plt.subplot(1,2,1)\n",
    "plt.title(\"Image\")\n",
    "image = X[n,:,:,0]\n",
    "plt.imshow(image, cmap='gray')\n",
    "plt.subplot(1,2,2)\n",
    "plt.title(\"Image Saliency Map\")\n",
    "plt.imshow(adv_saliency, cmap=\"hot\")"
   ]
  },
  {
   "cell_type": "code",
   "execution_count": 13,
   "metadata": {},
   "outputs": [
    {
     "name": "stdout",
     "output_type": "stream",
     "text": [
      "The Gini for IG is: 0.7273487098386412\n"
     ]
    }
   ],
   "source": [
    "gini_v = gini(IG.flatten())\n",
    "print('The Gini for IG is:', gini_v)"
   ]
  },
  {
   "cell_type": "markdown",
   "metadata": {},
   "source": [
    "# L1 Norm Regularization "
   ]
  },
  {
   "cell_type": "code",
   "execution_count": 14,
   "metadata": {},
   "outputs": [
    {
     "name": "stdout",
     "output_type": "stream",
     "text": [
      "INFO:tensorflow:Restoring parameters from models/nat_trained_with_l1_reg/checkpoint-24900\n"
     ]
    }
   ],
   "source": [
    "tf.reset_default_graph()\n",
    "sess = get_session()\n",
    "model = Model()\n",
    "# restore models\n",
    "model_dir = 'models/nat_trained_with_l1_reg'\n",
    "\n",
    "saver = tf.train.Saver()\n",
    "checkpoint = tf.train.latest_checkpoint(model_dir)\n",
    "saver.restore(sess, checkpoint)"
   ]
  },
  {
   "cell_type": "code",
   "execution_count": 15,
   "metadata": {},
   "outputs": [
    {
     "name": "stdout",
     "output_type": "stream",
     "text": [
      "prediction: Pullover, confidence: 0.9173622131347656\n"
     ]
    }
   ],
   "source": [
    "nat_output = sess.run(model.output, feed_dict={model.input: [test_image]})\n",
    "nat_pred = softmax(nat_output)\n",
    "\n",
    "print('prediction: {}, confidence: {}'.format(semantic_labels[np.argmax(nat_pred)], np.max(nat_pred)))"
   ]
  },
  {
   "cell_type": "code",
   "execution_count": 16,
   "metadata": {},
   "outputs": [
    {
     "data": {
      "text/plain": [
       "<matplotlib.image.AxesImage at 0x7f6d2575f588>"
      ]
     },
     "execution_count": 16,
     "metadata": {},
     "output_type": "execute_result"
    },
    {
     "data": {
      "image/png": "[encoded data removed]",
      "text/plain": [
       "<Figure size 576x576 with 2 Axes>"
      ]
     },
     "metadata": {
      "needs_background": "light"
     },
     "output_type": "display_data"
    }
   ],
   "source": [
    "IG = integrated_gradients(sess, reference_image, test_image, original_label, model, gradient_func='output_input_gradient', steps=num_steps)\n",
    "\n",
    "mpl.rcParams[\"figure.figsize\"]=8,8\n",
    "plt.rc(\"text\",usetex=False)\n",
    "plt.rc(\"font\",family=\"sans-serif\",size=12)\n",
    "saliency = np.sum(np.abs(IG),-1)\n",
    "l1_saliency = 28*28*saliency/np.sum(saliency)\n",
    "plt.subplot(1,2,1)\n",
    "plt.title(\"Image\")\n",
    "image = X[n,:,:,0]\n",
    "plt.imshow(image, cmap='gray')\n",
    "plt.subplot(1,2,2)\n",
    "plt.title(\"Image Saliency Map\")\n",
    "plt.imshow(l1_saliency, cmap=\"hot\")"
   ]
  },
  {
   "cell_type": "code",
   "execution_count": 17,
   "metadata": {},
   "outputs": [
    {
     "name": "stdout",
     "output_type": "stream",
     "text": [
      "The Gini for IG is: 0.5939087504230394\n"
     ]
    }
   ],
   "source": [
    "gini_v = gini(IG.flatten())\n",
    "print('The Gini for IG is:', gini_v)"
   ]
  },
  {
   "cell_type": "code",
   "execution_count": null,
   "metadata": {},
   "outputs": [],
   "source": []
  }
 ],
 "metadata": {
  "kernelspec": {
   "display_name": "Python 3",
   "language": "python",
   "name": "python3"
  },
  "language_info": {
   "codemirror_mode": {
    "name": "ipython",
    "version": 3
   },
   "file_extension": ".py",
   "mimetype": "text/x-python",
   "name": "python",
   "nbconvert_exporter": "python",
   "pygments_lexer": "ipython3",
   "version": "3.6.9"
  }
 },
 "nbformat": 4,
 "nbformat_minor": 2
}
