{
 "cells": [
  {
   "cell_type": "code",
   "execution_count": 1,
   "metadata": {},
   "outputs": [
    {
     "name": "stderr",
     "output_type": "stream",
     "text": [
      "/nobackup/ENV/lib/python3.5/site-packages/tensorflow/python/framework/dtypes.py:523: FutureWarning: Passing (type, 1) or '1type' as a synonym of type is deprecated; in a future version of numpy, it will be understood as (type, (1,)) / '(1,)type'.\n",
      "  _np_qint8 = np.dtype([(\"qint8\", np.int8, 1)])\n",
      "/nobackup/ENV/lib/python3.5/site-packages/tensorflow/python/framework/dtypes.py:524: FutureWarning: Passing (type, 1) or '1type' as a synonym of type is deprecated; in a future version of numpy, it will be understood as (type, (1,)) / '(1,)type'.\n",
      "  _np_quint8 = np.dtype([(\"quint8\", np.uint8, 1)])\n",
      "/nobackup/ENV/lib/python3.5/site-packages/tensorflow/python/framework/dtypes.py:525: FutureWarning: Passing (type, 1) or '1type' as a synonym of type is deprecated; in a future version of numpy, it will be understood as (type, (1,)) / '(1,)type'.\n",
      "  _np_qint16 = np.dtype([(\"qint16\", np.int16, 1)])\n",
      "/nobackup/ENV/lib/python3.5/site-packages/tensorflow/python/framework/dtypes.py:526: FutureWarning: Passing (type, 1) or '1type' as a synonym of type is deprecated; in a future version of numpy, it will be understood as (type, (1,)) / '(1,)type'.\n",
      "  _np_quint16 = np.dtype([(\"quint16\", np.uint16, 1)])\n",
      "/nobackup/ENV/lib/python3.5/site-packages/tensorflow/python/framework/dtypes.py:527: FutureWarning: Passing (type, 1) or '1type' as a synonym of type is deprecated; in a future version of numpy, it will be understood as (type, (1,)) / '(1,)type'.\n",
      "  _np_qint32 = np.dtype([(\"qint32\", np.int32, 1)])\n",
      "/nobackup/ENV/lib/python3.5/site-packages/tensorflow/python/framework/dtypes.py:532: FutureWarning: Passing (type, 1) or '1type' as a synonym of type is deprecated; in a future version of numpy, it will be understood as (type, (1,)) / '(1,)type'.\n",
      "  np_resource = np.dtype([(\"resource\", np.ubyte, 1)])\n",
      "numpy.core.umath_tests is an internal NumPy module and should not be imported. It will be removed in a future NumPy release.\n"
     ]
    }
   ],
   "source": [
    "import matplotlib as mpl\n",
    "from utils import plot\n",
    "import matplotlib.pyplot as plt\n",
    "import numpy as np\n",
    "import _pickle as pkl\n",
    "import scipy.stats as stats\n",
    "import tensorflow as tf\n",
    "import time\n",
    "from utils import dataReader, get_session, softmax, entropy, pct1pct, gini\n",
    "import shap\n",
    "from model import Model"
   ]
  },
  {
   "cell_type": "code",
   "execution_count": 2,
   "metadata": {},
   "outputs": [
    {
     "name": "stdout",
     "output_type": "stream",
     "text": [
      "WARNING:tensorflow:From /nobackup/jiefeng/Projects/advex/DNN-Experiments/Fashion-MNIST/utils.py:92: read_data_sets (from tensorflow.contrib.learn.python.learn.datasets.mnist) is deprecated and will be removed in a future version.\n",
      "Instructions for updating:\n",
      "Please use alternatives such as official/mnist/dataset.py from tensorflow/models.\n",
      "WARNING:tensorflow:From /nobackup/ENV/lib/python3.5/site-packages/tensorflow/contrib/learn/python/learn/datasets/mnist.py:260: maybe_download (from tensorflow.contrib.learn.python.learn.datasets.base) is deprecated and will be removed in a future version.\n",
      "Instructions for updating:\n",
      "Please write your own downloading logic.\n",
      "WARNING:tensorflow:From /nobackup/ENV/lib/python3.5/site-packages/tensorflow/contrib/learn/python/learn/datasets/mnist.py:262: extract_images (from tensorflow.contrib.learn.python.learn.datasets.mnist) is deprecated and will be removed in a future version.\n",
      "Instructions for updating:\n",
      "Please use tf.data to implement this functionality.\n",
      "Extracting data/fashion/train-images-idx3-ubyte.gz\n",
      "WARNING:tensorflow:From /nobackup/ENV/lib/python3.5/site-packages/tensorflow/contrib/learn/python/learn/datasets/mnist.py:267: extract_labels (from tensorflow.contrib.learn.python.learn.datasets.mnist) is deprecated and will be removed in a future version.\n",
      "Instructions for updating:\n",
      "Please use tf.data to implement this functionality.\n",
      "Extracting data/fashion/train-labels-idx1-ubyte.gz\n",
      "Extracting data/fashion/t10k-images-idx3-ubyte.gz\n",
      "Extracting data/fashion/t10k-labels-idx1-ubyte.gz\n",
      "WARNING:tensorflow:From /nobackup/ENV/lib/python3.5/site-packages/tensorflow/contrib/learn/python/learn/datasets/mnist.py:290: DataSet.__init__ (from tensorflow.contrib.learn.python.learn.datasets.mnist) is deprecated and will be removed in a future version.\n",
      "Instructions for updating:\n",
      "Please use alternatives such as official/mnist/dataset.py from tensorflow/models.\n"
     ]
    }
   ],
   "source": [
    "X, y = dataReader()"
   ]
  },
  {
   "cell_type": "code",
   "execution_count": 3,
   "metadata": {},
   "outputs": [
    {
     "name": "stdout",
     "output_type": "stream",
     "text": [
      "Image ID: 1, Image Label : 2\n"
     ]
    },
    {
     "data": {
      "text/plain": [
       "<matplotlib.image.AxesImage at 0x7f57d248e6d8>"
      ]
     },
     "execution_count": 3,
     "metadata": {},
     "output_type": "execute_result"
    },
    {
     "data": {
      "image/png": "[encoded data removed]",
      "text/plain": [
       "<matplotlib.figure.Figure at 0x7f57d2555e48>"
      ]
     },
     "metadata": {
      "needs_background": "light"
     },
     "output_type": "display_data"
    }
   ],
   "source": [
    "n = 1\n",
    "original_label = y[n]\n",
    "test_image = X[n]\n",
    "plt.rcParams[\"figure.figsize\"]=8,8\n",
    "print(\"Image ID: {}, Image Label : {}\".format(n, y[n]))\n",
    "%matplotlib inline\n",
    "plt.imshow(X[n,:,:,0], cmap='gray')"
   ]
  },
  {
   "cell_type": "code",
   "execution_count": 4,
   "metadata": {},
   "outputs": [],
   "source": [
    "reference_images = np.zeros((1, 28, 28, 1), dtype=np.float32)"
   ]
  },
  {
   "cell_type": "markdown",
   "metadata": {},
   "source": [
    "# Natural Training"
   ]
  },
  {
   "cell_type": "code",
   "execution_count": 5,
   "metadata": {},
   "outputs": [
    {
     "name": "stdout",
     "output_type": "stream",
     "text": [
      "INFO:tensorflow:Restoring parameters from models/nat_trained/checkpoint-24900\n"
     ]
    },
    {
     "name": "stderr",
     "output_type": "stream",
     "text": [
      "Using TensorFlow backend.\n"
     ]
    },
    {
     "name": "stdout",
     "output_type": "stream",
     "text": [
      "prediction: 2, confidence: 0.9948399662971497\n"
     ]
    }
   ],
   "source": [
    "tf.reset_default_graph()\n",
    "\n",
    "config_gpu = tf.ConfigProto()\n",
    "config_gpu.gpu_options.allow_growth = True\n",
    "\n",
    "with tf.Session(config=config_gpu) as sess:\n",
    "    model = Model()\n",
    "    # restore models\n",
    "    model_dir = 'models/nat_trained'\n",
    "\n",
    "    saver = tf.train.Saver()\n",
    "    checkpoint = tf.train.latest_checkpoint(model_dir)\n",
    "    saver.restore(sess, checkpoint)\n",
    "\n",
    "    e = shap.DeepExplainer((model.input, model.output), reference_images)\n",
    "\n",
    "    nat_output = sess.run(model.output, feed_dict={model.input: [test_image]})\n",
    "    nat_pred = softmax(nat_output)\n",
    "\n",
    "    print('prediction: {}, confidence: {}'.format(np.argmax(nat_pred), np.max(nat_pred)))\n",
    "\n",
    "    shap_value = e.shap_values(X[n:n+1])[0][0]"
   ]
  },
  {
   "cell_type": "code",
   "execution_count": 6,
   "metadata": {},
   "outputs": [
    {
     "data": {
      "text/plain": [
       "<matplotlib.image.AxesImage at 0x7f576075f710>"
      ]
     },
     "execution_count": 6,
     "metadata": {},
     "output_type": "execute_result"
    },
    {
     "data": {
      "image/png": "[encoded data removed]",
      "text/plain": [
       "<matplotlib.figure.Figure at 0x7f57a06d1b00>"
      ]
     },
     "metadata": {
      "needs_background": "light"
     },
     "output_type": "display_data"
    }
   ],
   "source": [
    "mpl.rcParams[\"figure.figsize\"]=8,8\n",
    "plt.rc(\"text\",usetex=False)\n",
    "plt.rc(\"font\",family=\"sans-serif\",size=12)\n",
    "saliency = np.sum(np.abs(shap_value),-1)\n",
    "nat_saliency = 28*28*saliency/np.sum(saliency)\n",
    "plt.subplot(1,2,1)\n",
    "plt.title(\"Image\")\n",
    "image = X[n,:,:,0]\n",
    "plt.imshow(image, cmap='gray')\n",
    "plt.subplot(1,2,2)\n",
    "plt.title(\"Image Saliency Map\")\n",
    "plt.imshow(nat_saliency, cmap=\"hot\")"
   ]
  },
  {
   "cell_type": "code",
   "execution_count": 7,
   "metadata": {},
   "outputs": [
    {
     "name": "stdout",
     "output_type": "stream",
     "text": [
      "The entropy for SHAP is: 0.8715469618421121\n",
      "The A1P for SHAP is: 0.5892857142857143\n",
      "The Gini for SHAP is: 0.6748736101722769\n"
     ]
    }
   ],
   "source": [
    "ent = entropy(shap_value.flatten())\n",
    "print('The entropy for SHAP is:', ent)\n",
    "\n",
    "a1p = pct1pct(shap_value.flatten())\n",
    "print('The A1P for SHAP is:', a1p)\n",
    "\n",
    "gini_v = gini(shap_value.flatten())\n",
    "print('The Gini for SHAP is:', gini_v)"
   ]
  },
  {
   "cell_type": "markdown",
   "metadata": {},
   "source": [
    "# Adversarial Traininig"
   ]
  },
  {
   "cell_type": "code",
   "execution_count": 8,
   "metadata": {},
   "outputs": [
    {
     "name": "stdout",
     "output_type": "stream",
     "text": [
      "INFO:tensorflow:Restoring parameters from models/adv_trained/checkpoint-99900\n",
      "prediction: 2, confidence: 0.9031199812889099\n"
     ]
    }
   ],
   "source": [
    "tf.reset_default_graph()\n",
    "tf.keras.backend.clear_session()\n",
    "\n",
    "config_gpu = tf.ConfigProto()\n",
    "config_gpu.gpu_options.allow_growth = True\n",
    "\n",
    "with tf.Session(config=config_gpu) as sess:\n",
    "    model = Model()\n",
    "    # restore models\n",
    "    model_dir = 'models/adv_trained'\n",
    "\n",
    "    saver = tf.train.Saver()\n",
    "    checkpoint = tf.train.latest_checkpoint(model_dir)\n",
    "    saver.restore(sess, checkpoint)\n",
    "\n",
    "    e = shap.DeepExplainer((model.input, model.output), reference_images)\n",
    "\n",
    "    nat_output = sess.run(model.output, feed_dict={model.input: [test_image]})\n",
    "    nat_pred = softmax(nat_output)\n",
    "\n",
    "    print('prediction: {}, confidence: {}'.format(np.argmax(nat_pred), np.max(nat_pred)))\n",
    "\n",
    "    shap_value = e.shap_values(X[n:n+1])[0][0]"
   ]
  },
  {
   "cell_type": "code",
   "execution_count": 9,
   "metadata": {},
   "outputs": [
    {
     "data": {
      "text/plain": [
       "<matplotlib.image.AxesImage at 0x7f57c6261550>"
      ]
     },
     "execution_count": 9,
     "metadata": {},
     "output_type": "execute_result"
    },
    {
     "data": {
      "image/png": "[encoded data removed]",
      "text/plain": [
       "<matplotlib.figure.Figure at 0x7f57804b3b70>"
      ]
     },
     "metadata": {
      "needs_background": "light"
     },
     "output_type": "display_data"
    }
   ],
   "source": [
    "mpl.rcParams[\"figure.figsize\"]=8,8\n",
    "plt.rc(\"text\",usetex=False)\n",
    "plt.rc(\"font\",family=\"sans-serif\",size=12)\n",
    "saliency = np.sum(np.abs(shap_value),-1)\n",
    "adv_saliency = 28*28*saliency/np.sum(saliency)\n",
    "plt.subplot(1,2,1)\n",
    "plt.title(\"Image\")\n",
    "image = X[n,:,:,0]\n",
    "plt.imshow(image, cmap='gray')\n",
    "plt.subplot(1,2,2)\n",
    "plt.title(\"Image Saliency Map\")\n",
    "plt.imshow(adv_saliency, cmap=\"hot\")"
   ]
  },
  {
   "cell_type": "code",
   "execution_count": 10,
   "metadata": {},
   "outputs": [
    {
     "name": "stdout",
     "output_type": "stream",
     "text": [
      "The entropy for SHAP is: 0.8177645847443878\n",
      "The A1P for SHAP is: 0.4655612244897959\n",
      "The Gini for SHAP is: 0.7630548955644556\n"
     ]
    }
   ],
   "source": [
    "ent = entropy(shap_value.flatten())\n",
    "print('The entropy for SHAP is:', ent)\n",
    "\n",
    "a1p = pct1pct(shap_value.flatten())\n",
    "print('The A1P for SHAP is:', a1p)\n",
    "\n",
    "gini_v = gini(shap_value.flatten())\n",
    "print('The Gini for SHAP is:', gini_v)"
   ]
  },
  {
   "cell_type": "markdown",
   "metadata": {},
   "source": [
    "# L1 Norm Regularization "
   ]
  },
  {
   "cell_type": "code",
   "execution_count": 11,
   "metadata": {},
   "outputs": [
    {
     "name": "stdout",
     "output_type": "stream",
     "text": [
      "INFO:tensorflow:Restoring parameters from models/nat_trained_with_l1_reg/checkpoint-24900\n",
      "prediction: 2, confidence: 0.9960666298866272\n"
     ]
    }
   ],
   "source": [
    "tf.reset_default_graph()\n",
    "tf.keras.backend.clear_session()\n",
    "\n",
    "config_gpu = tf.ConfigProto()\n",
    "config_gpu.gpu_options.allow_growth = True\n",
    "\n",
    "with tf.Session(config=config_gpu) as sess:\n",
    "    model = Model()\n",
    "    # restore models\n",
    "    model_dir = 'models/nat_trained_with_l1_reg'\n",
    "\n",
    "    saver = tf.train.Saver()\n",
    "    checkpoint = tf.train.latest_checkpoint(model_dir)\n",
    "    saver.restore(sess, checkpoint)\n",
    "\n",
    "    e = shap.DeepExplainer((model.input, model.output), reference_images)\n",
    "\n",
    "    nat_output = sess.run(model.output, feed_dict={model.input: [test_image]})\n",
    "    nat_pred = softmax(nat_output)\n",
    "\n",
    "    print('prediction: {}, confidence: {}'.format(np.argmax(nat_pred), np.max(nat_pred)))\n",
    "\n",
    "    shap_value = e.shap_values(X[n:n+1])[0][0]"
   ]
  },
  {
   "cell_type": "code",
   "execution_count": 12,
   "metadata": {},
   "outputs": [
    {
     "data": {
      "text/plain": [
       "<matplotlib.image.AxesImage at 0x7f57c66918d0>"
      ]
     },
     "execution_count": 12,
     "metadata": {},
     "output_type": "execute_result"
    },
    {
     "data": {
      "image/png": "[encoded data removed]",
      "text/plain": [
       "<matplotlib.figure.Figure at 0x7f5751ec8d68>"
      ]
     },
     "metadata": {
      "needs_background": "light"
     },
     "output_type": "display_data"
    }
   ],
   "source": [
    "mpl.rcParams[\"figure.figsize\"]=8,8\n",
    "plt.rc(\"text\",usetex=False)\n",
    "plt.rc(\"font\",family=\"sans-serif\",size=12)\n",
    "saliency = np.sum(np.abs(shap_value),-1)\n",
    "l1_saliency = 28*28*saliency/np.sum(saliency)\n",
    "plt.subplot(1,2,1)\n",
    "plt.title(\"Image\")\n",
    "image = X[n,:,:,0]\n",
    "plt.imshow(image, cmap='gray')\n",
    "plt.subplot(1,2,2)\n",
    "plt.title(\"Image Saliency Map\")\n",
    "plt.imshow(l1_saliency, cmap=\"hot\")"
   ]
  },
  {
   "cell_type": "code",
   "execution_count": 13,
   "metadata": {},
   "outputs": [
    {
     "name": "stdout",
     "output_type": "stream",
     "text": [
      "The entropy for SHAP is: 0.8751879441690198\n",
      "The A1P for SHAP is: 0.6058673469387755\n",
      "The Gini for SHAP is: 0.6675538144147696\n"
     ]
    }
   ],
   "source": [
    "ent = entropy(shap_value.flatten())\n",
    "print('The entropy for SHAP is:', ent)\n",
    "\n",
    "a1p = pct1pct(shap_value.flatten())\n",
    "print('The A1P for SHAP is:', a1p)\n",
    "\n",
    "gini_v = gini(shap_value.flatten())\n",
    "print('The Gini for SHAP is:', gini_v)"
   ]
  },
  {
   "cell_type": "markdown",
   "metadata": {},
   "source": [
    "# Save Figures"
   ]
  },
  {
   "cell_type": "code",
   "execution_count": 14,
   "metadata": {},
   "outputs": [],
   "source": [
    "import os\n",
    "\n",
    "save_figure_dir = os.path.join('demo_figures', 'SHAP', str(n))\n",
    "\n",
    "if not os.path.exists(save_figure_dir):\n",
    "    os.makedirs(save_figure_dir)\n",
    "    "
   ]
  },
  {
   "cell_type": "code",
   "execution_count": 15,
   "metadata": {},
   "outputs": [
    {
     "data": {
      "image/png": "[encoded data removed]",
      "text/plain": [
       "<matplotlib.figure.Figure at 0x7f576076b5f8>"
      ]
     },
     "metadata": {},
     "output_type": "display_data"
    }
   ],
   "source": [
    "axis = plot(image, cmap='gray')\n",
    "axis.title('Image', fontsize=26, fontweight=\"bold\")\n",
    "axis.savefig(os.path.join(save_figure_dir, 'image.jpg'), bbox_inches='tight', pad_inches = 0)"
   ]
  },
  {
   "cell_type": "code",
   "execution_count": 16,
   "metadata": {},
   "outputs": [
    {
     "data": {
      "image/png": "[encoded data removed]",
      "text/plain": [
       "<matplotlib.figure.Figure at 0x7f57803e9ac8>"
      ]
     },
     "metadata": {},
     "output_type": "display_data"
    }
   ],
   "source": [
    "axis = plot(nat_saliency, cmap='hot')\n",
    "axis.title('Saliency Map', fontsize=26, fontweight=\"bold\")\n",
    "axis.savefig(os.path.join(save_figure_dir, 'nat_saliency_map.jpg'), bbox_inches='tight', pad_inches = 0)"
   ]
  },
  {
   "cell_type": "code",
   "execution_count": 17,
   "metadata": {},
   "outputs": [
    {
     "data": {
      "image/png": "[encoded data removed]",
      "text/plain": [
       "<matplotlib.figure.Figure at 0x7f578049eb38>"
      ]
     },
     "metadata": {},
     "output_type": "display_data"
    }
   ],
   "source": [
    "axis = plot(adv_saliency, cmap='hot')\n",
    "axis.title('Saliency Map', fontsize=26, fontweight=\"bold\")\n",
    "axis.savefig(os.path.join(save_figure_dir, 'adv_saliency_map.jpg'), bbox_inches='tight', pad_inches = 0)"
   ]
  },
  {
   "cell_type": "code",
   "execution_count": 18,
   "metadata": {},
   "outputs": [
    {
     "data": {
      "image/png": "[encoded data removed]",
      "text/plain": [
       "<matplotlib.figure.Figure at 0x7f578006cef0>"
      ]
     },
     "metadata": {},
     "output_type": "display_data"
    }
   ],
   "source": [
    "axis = plot(l1_saliency, cmap='hot')\n",
    "axis.title('Saliency Map', fontsize=26, fontweight=\"bold\")\n",
    "axis.savefig(os.path.join(save_figure_dir, 'l1_saliency_map.jpg'), bbox_inches='tight', pad_inches = 0)"
   ]
  },
  {
   "cell_type": "code",
   "execution_count": null,
   "metadata": {},
   "outputs": [],
   "source": []
  }
 ],
 "metadata": {
  "kernelspec": {
   "display_name": "Python 3",
   "language": "python",
   "name": "python3"
  },
  "language_info": {
   "codemirror_mode": {
    "name": "ipython",
    "version": 3
   },
   "file_extension": ".py",
   "mimetype": "text/x-python",
   "name": "python",
   "nbconvert_exporter": "python",
   "pygments_lexer": "ipython3",
   "version": "3.5.2"
  }
 },
 "nbformat": 4,
 "nbformat_minor": 2
}
