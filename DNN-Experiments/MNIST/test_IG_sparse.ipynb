{
 "cells": [
  {
   "cell_type": "code",
   "execution_count": 1,
   "metadata": {},
   "outputs": [
    {
     "name": "stderr",
     "output_type": "stream",
     "text": [
      "/nobackup/ENV/lib/python3.5/site-packages/tensorflow/python/framework/dtypes.py:523: FutureWarning: Passing (type, 1) or '1type' as a synonym of type is deprecated; in a future version of numpy, it will be understood as (type, (1,)) / '(1,)type'.\n",
      "  _np_qint8 = np.dtype([(\"qint8\", np.int8, 1)])\n",
      "/nobackup/ENV/lib/python3.5/site-packages/tensorflow/python/framework/dtypes.py:524: FutureWarning: Passing (type, 1) or '1type' as a synonym of type is deprecated; in a future version of numpy, it will be understood as (type, (1,)) / '(1,)type'.\n",
      "  _np_quint8 = np.dtype([(\"quint8\", np.uint8, 1)])\n",
      "/nobackup/ENV/lib/python3.5/site-packages/tensorflow/python/framework/dtypes.py:525: FutureWarning: Passing (type, 1) or '1type' as a synonym of type is deprecated; in a future version of numpy, it will be understood as (type, (1,)) / '(1,)type'.\n",
      "  _np_qint16 = np.dtype([(\"qint16\", np.int16, 1)])\n",
      "/nobackup/ENV/lib/python3.5/site-packages/tensorflow/python/framework/dtypes.py:526: FutureWarning: Passing (type, 1) or '1type' as a synonym of type is deprecated; in a future version of numpy, it will be understood as (type, (1,)) / '(1,)type'.\n",
      "  _np_quint16 = np.dtype([(\"quint16\", np.uint16, 1)])\n",
      "/nobackup/ENV/lib/python3.5/site-packages/tensorflow/python/framework/dtypes.py:527: FutureWarning: Passing (type, 1) or '1type' as a synonym of type is deprecated; in a future version of numpy, it will be understood as (type, (1,)) / '(1,)type'.\n",
      "  _np_qint32 = np.dtype([(\"qint32\", np.int32, 1)])\n",
      "/nobackup/ENV/lib/python3.5/site-packages/tensorflow/python/framework/dtypes.py:532: FutureWarning: Passing (type, 1) or '1type' as a synonym of type is deprecated; in a future version of numpy, it will be understood as (type, (1,)) / '(1,)type'.\n",
      "  np_resource = np.dtype([(\"resource\", np.ubyte, 1)])\n"
     ]
    }
   ],
   "source": [
    "import matplotlib as mpl\n",
    "from utils import plot\n",
    "import matplotlib.pyplot as plt\n",
    "import numpy as np\n",
    "import _pickle as pkl\n",
    "import scipy.stats as stats\n",
    "import tensorflow as tf\n",
    "import time\n",
    "from utils import dataReader, get_session, integrated_gradients, softmax, entropy, pct1pct, gini\n",
    "from model import Model"
   ]
  },
  {
   "cell_type": "code",
   "execution_count": 2,
   "metadata": {},
   "outputs": [
    {
     "name": "stdout",
     "output_type": "stream",
     "text": [
      "WARNING:tensorflow:From /nobackup/jiefeng/Projects/sparse-attribution/MNIST/utils.py:99: read_data_sets (from tensorflow.contrib.learn.python.learn.datasets.mnist) is deprecated and will be removed in a future version.\n",
      "Instructions for updating:\n",
      "Please use alternatives such as official/mnist/dataset.py from tensorflow/models.\n",
      "WARNING:tensorflow:From /nobackup/ENV/lib/python3.5/site-packages/tensorflow/contrib/learn/python/learn/datasets/mnist.py:260: maybe_download (from tensorflow.contrib.learn.python.learn.datasets.base) is deprecated and will be removed in a future version.\n",
      "Instructions for updating:\n",
      "Please write your own downloading logic.\n",
      "WARNING:tensorflow:From /nobackup/ENV/lib/python3.5/site-packages/tensorflow/contrib/learn/python/learn/datasets/mnist.py:262: extract_images (from tensorflow.contrib.learn.python.learn.datasets.mnist) is deprecated and will be removed in a future version.\n",
      "Instructions for updating:\n",
      "Please use tf.data to implement this functionality.\n",
      "Extracting MNIST_data/train-images-idx3-ubyte.gz\n",
      "WARNING:tensorflow:From /nobackup/ENV/lib/python3.5/site-packages/tensorflow/contrib/learn/python/learn/datasets/mnist.py:267: extract_labels (from tensorflow.contrib.learn.python.learn.datasets.mnist) is deprecated and will be removed in a future version.\n",
      "Instructions for updating:\n",
      "Please use tf.data to implement this functionality.\n",
      "Extracting MNIST_data/train-labels-idx1-ubyte.gz\n",
      "Extracting MNIST_data/t10k-images-idx3-ubyte.gz\n",
      "Extracting MNIST_data/t10k-labels-idx1-ubyte.gz\n",
      "WARNING:tensorflow:From /nobackup/ENV/lib/python3.5/site-packages/tensorflow/contrib/learn/python/learn/datasets/mnist.py:290: DataSet.__init__ (from tensorflow.contrib.learn.python.learn.datasets.mnist) is deprecated and will be removed in a future version.\n",
      "Instructions for updating:\n",
      "Please use alternatives such as official/mnist/dataset.py from tensorflow/models.\n"
     ]
    }
   ],
   "source": [
    "X, y = dataReader()"
   ]
  },
  {
   "cell_type": "code",
   "execution_count": 3,
   "metadata": {},
   "outputs": [
    {
     "name": "stdout",
     "output_type": "stream",
     "text": [
      "Image ID: 900, Image Label : 1\n"
     ]
    },
    {
     "data": {
      "text/plain": [
       "<matplotlib.image.AxesImage at 0x7f0eb1106f28>"
      ]
     },
     "execution_count": 3,
     "metadata": {},
     "output_type": "execute_result"
    },
    {
     "data": {
      "image/png": "[encoded data removed]",
      "text/plain": [
       "<matplotlib.figure.Figure at 0x7f0f88243358>"
      ]
     },
     "metadata": {
      "needs_background": "light"
     },
     "output_type": "display_data"
    }
   ],
   "source": [
    "n = 900\n",
    "original_label = y[n]\n",
    "test_image = X[n]\n",
    "plt.rcParams[\"figure.figsize\"]=8,8\n",
    "print(\"Image ID: {}, Image Label : {}\".format(n, y[n]))\n",
    "%matplotlib inline\n",
    "plt.imshow(X[n,:,:,0], cmap='gray')"
   ]
  },
  {
   "cell_type": "code",
   "execution_count": 4,
   "metadata": {},
   "outputs": [],
   "source": [
    "reference_image = np.zeros((28, 28, 1), dtype=np.float32)\n",
    "num_steps = 100"
   ]
  },
  {
   "cell_type": "markdown",
   "metadata": {},
   "source": [
    "# Natural Training"
   ]
  },
  {
   "cell_type": "code",
   "execution_count": 5,
   "metadata": {},
   "outputs": [
    {
     "name": "stdout",
     "output_type": "stream",
     "text": [
      "INFO:tensorflow:Restoring parameters from models/nat_trained/checkpoint-24900\n"
     ]
    }
   ],
   "source": [
    "tf.reset_default_graph()\n",
    "sess = get_session()\n",
    "model = Model()\n",
    "# restore models\n",
    "model_dir = 'models/nat_trained'\n",
    "\n",
    "saver = tf.train.Saver()\n",
    "checkpoint = tf.train.latest_checkpoint(model_dir)\n",
    "saver.restore(sess, checkpoint)"
   ]
  },
  {
   "cell_type": "code",
   "execution_count": 6,
   "metadata": {},
   "outputs": [
    {
     "name": "stdout",
     "output_type": "stream",
     "text": [
      "prediction: 1, confidence: 0.9721893668174744\n"
     ]
    }
   ],
   "source": [
    "nat_output = sess.run(model.output, feed_dict={model.input: [test_image]})\n",
    "nat_pred = softmax(nat_output)\n",
    "\n",
    "print('prediction: {}, confidence: {}'.format(np.argmax(nat_pred), np.max(nat_pred)))"
   ]
  },
  {
   "cell_type": "code",
   "execution_count": 7,
   "metadata": {},
   "outputs": [
    {
     "data": {
      "text/plain": [
       "<matplotlib.image.AxesImage at 0x7f0eac4959b0>"
      ]
     },
     "execution_count": 7,
     "metadata": {},
     "output_type": "execute_result"
    },
    {
     "data": {
      "image/png": "[encoded data removed]",
      "text/plain": [
       "<matplotlib.figure.Figure at 0x7f0eadce6b70>"
      ]
     },
     "metadata": {
      "needs_background": "light"
     },
     "output_type": "display_data"
    }
   ],
   "source": [
    "IG = integrated_gradients(sess, reference_image, test_image, original_label, model, gradient_func='output_input_gradient', steps=num_steps)\n",
    "\n",
    "mpl.rcParams[\"figure.figsize\"]=8,8\n",
    "plt.rc(\"text\",usetex=False)\n",
    "plt.rc(\"font\",family=\"sans-serif\",size=12)\n",
    "saliency = np.sum(np.abs(IG),-1)\n",
    "nat_saliency = 28*28*saliency/np.sum(saliency)\n",
    "plt.subplot(1,2,1)\n",
    "plt.title(\"Image\")\n",
    "image = X[n,:,:,0]\n",
    "plt.imshow(image, cmap='gray')\n",
    "plt.subplot(1,2,2)\n",
    "plt.title(\"Image Saliency Map\")\n",
    "plt.imshow(nat_saliency, cmap=\"hot\")"
   ]
  },
  {
   "cell_type": "code",
   "execution_count": 8,
   "metadata": {},
   "outputs": [
    {
     "name": "stdout",
     "output_type": "stream",
     "text": [
      "The entropy for IG is: 0.5818222554905639\n",
      "The A1P for IG is: 0.09438775510204081\n",
      "The Gini for IG is: 0.9538787560927822\n"
     ]
    }
   ],
   "source": [
    "ent = entropy(IG.flatten())\n",
    "print('The entropy for IG is:', ent)\n",
    "\n",
    "a1p = pct1pct(IG.flatten())\n",
    "print('The A1P for IG is:', a1p)\n",
    "\n",
    "gini_v = gini(IG.flatten())\n",
    "print('The Gini for IG is:', gini_v)"
   ]
  },
  {
   "cell_type": "markdown",
   "metadata": {},
   "source": [
    "# Adversarial Traininig"
   ]
  },
  {
   "cell_type": "code",
   "execution_count": 9,
   "metadata": {},
   "outputs": [
    {
     "name": "stdout",
     "output_type": "stream",
     "text": [
      "INFO:tensorflow:Restoring parameters from models/adv_trained/checkpoint-99900\n"
     ]
    }
   ],
   "source": [
    "tf.reset_default_graph()\n",
    "sess = get_session()\n",
    "model = Model()\n",
    "# restore models\n",
    "model_dir = 'models/adv_trained'\n",
    "\n",
    "saver = tf.train.Saver()\n",
    "checkpoint = tf.train.latest_checkpoint(model_dir)\n",
    "saver.restore(sess, checkpoint)"
   ]
  },
  {
   "cell_type": "code",
   "execution_count": 10,
   "metadata": {},
   "outputs": [
    {
     "name": "stdout",
     "output_type": "stream",
     "text": [
      "prediction: 1, confidence: 0.8960168361663818\n"
     ]
    }
   ],
   "source": [
    "nat_output = sess.run(model.output, feed_dict={model.input: [test_image]})\n",
    "nat_pred = softmax(nat_output)\n",
    "\n",
    "print('prediction: {}, confidence: {}'.format(np.argmax(nat_pred), np.max(nat_pred)))"
   ]
  },
  {
   "cell_type": "code",
   "execution_count": 11,
   "metadata": {},
   "outputs": [
    {
     "data": {
      "text/plain": [
       "<matplotlib.image.AxesImage at 0x7f0ea564c9b0>"
      ]
     },
     "execution_count": 11,
     "metadata": {},
     "output_type": "execute_result"
    },
    {
     "data": {
      "image/png": "[encoded data removed]",
      "text/plain": [
       "<matplotlib.figure.Figure at 0x7f0ea568dfd0>"
      ]
     },
     "metadata": {
      "needs_background": "light"
     },
     "output_type": "display_data"
    }
   ],
   "source": [
    "IG = integrated_gradients(sess, reference_image, test_image, original_label, model, gradient_func='output_input_gradient', steps=num_steps)\n",
    "\n",
    "mpl.rcParams[\"figure.figsize\"]=8,8\n",
    "plt.rc(\"text\",usetex=False)\n",
    "plt.rc(\"font\",family=\"sans-serif\",size=12)\n",
    "saliency = np.sum(np.abs(IG),-1)\n",
    "adv_saliency = 28*28*saliency/np.sum(saliency)\n",
    "plt.subplot(1,2,1)\n",
    "plt.title(\"Image\")\n",
    "image = X[n,:,:,0]\n",
    "plt.imshow(image, cmap='gray')\n",
    "plt.subplot(1,2,2)\n",
    "plt.title(\"Image Saliency Map\")\n",
    "plt.imshow(adv_saliency, cmap=\"hot\")"
   ]
  },
  {
   "cell_type": "code",
   "execution_count": 12,
   "metadata": {},
   "outputs": [
    {
     "name": "stdout",
     "output_type": "stream",
     "text": [
      "The entropy for IG is: 0.4283784779918379\n",
      "The A1P for IG is: 0.030612244897959183\n",
      "The Gini for IG is: 0.9830495069240033\n"
     ]
    }
   ],
   "source": [
    "ent = entropy(IG.flatten())\n",
    "print('The entropy for IG is:', ent)\n",
    "\n",
    "a1p = pct1pct(IG.flatten())\n",
    "print('The A1P for IG is:', a1p)\n",
    "\n",
    "gini_v = gini(IG.flatten())\n",
    "print('The Gini for IG is:', gini_v)"
   ]
  },
  {
   "cell_type": "markdown",
   "metadata": {},
   "source": [
    "# L1 Norm Regularization "
   ]
  },
  {
   "cell_type": "code",
   "execution_count": 13,
   "metadata": {},
   "outputs": [
    {
     "name": "stdout",
     "output_type": "stream",
     "text": [
      "INFO:tensorflow:Restoring parameters from models/nat_trained_with_l1_reg/checkpoint-24900\n"
     ]
    }
   ],
   "source": [
    "tf.reset_default_graph()\n",
    "sess = get_session()\n",
    "model = Model()\n",
    "# restore models\n",
    "model_dir = 'models/nat_trained_with_l1_reg'\n",
    "\n",
    "saver = tf.train.Saver()\n",
    "checkpoint = tf.train.latest_checkpoint(model_dir)\n",
    "saver.restore(sess, checkpoint)"
   ]
  },
  {
   "cell_type": "code",
   "execution_count": 14,
   "metadata": {},
   "outputs": [
    {
     "name": "stdout",
     "output_type": "stream",
     "text": [
      "prediction: 1, confidence: 0.6459177136421204\n"
     ]
    }
   ],
   "source": [
    "nat_output = sess.run(model.output, feed_dict={model.input: [test_image]})\n",
    "nat_pred = softmax(nat_output)\n",
    "\n",
    "print('prediction: {}, confidence: {}'.format(np.argmax(nat_pred), np.max(nat_pred)))"
   ]
  },
  {
   "cell_type": "code",
   "execution_count": 15,
   "metadata": {},
   "outputs": [
    {
     "data": {
      "text/plain": [
       "<matplotlib.image.AxesImage at 0x7f0ea1c70f28>"
      ]
     },
     "execution_count": 15,
     "metadata": {},
     "output_type": "execute_result"
    },
    {
     "data": {
      "image/png": "[encoded data removed]",
      "text/plain": [
       "<matplotlib.figure.Figure at 0x7f0ea1cb43c8>"
      ]
     },
     "metadata": {
      "needs_background": "light"
     },
     "output_type": "display_data"
    }
   ],
   "source": [
    "IG = integrated_gradients(sess, reference_image, test_image, original_label, model, gradient_func='output_input_gradient', steps=num_steps)\n",
    "\n",
    "mpl.rcParams[\"figure.figsize\"]=8,8\n",
    "plt.rc(\"text\",usetex=False)\n",
    "plt.rc(\"font\",family=\"sans-serif\",size=12)\n",
    "saliency = np.sum(np.abs(IG),-1)\n",
    "l1_saliency = 28*28*saliency/np.sum(saliency)\n",
    "plt.subplot(1,2,1)\n",
    "plt.title(\"Image\")\n",
    "image = X[n,:,:,0]\n",
    "plt.imshow(image, cmap='gray')\n",
    "plt.subplot(1,2,2)\n",
    "plt.title(\"Image Saliency Map\")\n",
    "plt.imshow(l1_saliency, cmap=\"hot\")"
   ]
  },
  {
   "cell_type": "code",
   "execution_count": 16,
   "metadata": {},
   "outputs": [
    {
     "name": "stdout",
     "output_type": "stream",
     "text": [
      "The entropy for IG is: 0.5698061098816648\n",
      "The A1P for IG is: 0.09566326530612244\n",
      "The Gini for IG is: 0.9575553603148713\n"
     ]
    }
   ],
   "source": [
    "ent = entropy(IG.flatten())\n",
    "print('The entropy for IG is:', ent)\n",
    "\n",
    "a1p = pct1pct(IG.flatten())\n",
    "print('The A1P for IG is:', a1p)\n",
    "\n",
    "gini_v = gini(IG.flatten())\n",
    "print('The Gini for IG is:', gini_v)"
   ]
  },
  {
   "cell_type": "markdown",
   "metadata": {},
   "source": [
    "# Save Figures"
   ]
  },
  {
   "cell_type": "code",
   "execution_count": 17,
   "metadata": {},
   "outputs": [],
   "source": [
    "import os\n",
    "\n",
    "save_figure_dir = os.path.join('demo_figures', 'IG', str(n))\n",
    "\n",
    "if not os.path.exists(save_figure_dir):\n",
    "    os.makedirs(save_figure_dir)\n",
    "    "
   ]
  },
  {
   "cell_type": "code",
   "execution_count": 18,
   "metadata": {},
   "outputs": [
    {
     "data": {
      "image/png": "[encoded data removed]",
      "text/plain": [
       "<matplotlib.figure.Figure at 0x7f0eb10eeb00>"
      ]
     },
     "metadata": {},
     "output_type": "display_data"
    }
   ],
   "source": [
    "axis = plot(image, cmap='gray')\n",
    "axis.title('Image', fontsize=26, fontweight=\"bold\")\n",
    "axis.savefig(os.path.join(save_figure_dir, 'image.jpg'), bbox_inches='tight', pad_inches = 0)"
   ]
  },
  {
   "cell_type": "code",
   "execution_count": 19,
   "metadata": {},
   "outputs": [
    {
     "data": {
      "image/png": "[encoded data removed]",
      "text/plain": [
       "<matplotlib.figure.Figure at 0x7f0eac432a58>"
      ]
     },
     "metadata": {},
     "output_type": "display_data"
    }
   ],
   "source": [
    "axis = plot(nat_saliency, cmap='hot')\n",
    "axis.title('Saliency Map', fontsize=26, fontweight=\"bold\")\n",
    "axis.savefig(os.path.join(save_figure_dir, 'nat_saliency_map.jpg'), bbox_inches='tight', pad_inches = 0)"
   ]
  },
  {
   "cell_type": "code",
   "execution_count": 20,
   "metadata": {},
   "outputs": [
    {
     "data": {
      "image/png": "[encoded data removed]",
      "text/plain": [
       "<matplotlib.figure.Figure at 0x7f0ea15eb550>"
      ]
     },
     "metadata": {},
     "output_type": "display_data"
    }
   ],
   "source": [
    "axis = plot(adv_saliency, cmap='hot')\n",
    "axis.title('Saliency Map', fontsize=26, fontweight=\"bold\")\n",
    "axis.savefig(os.path.join(save_figure_dir, 'adv_saliency_map.jpg'), bbox_inches='tight', pad_inches = 0)"
   ]
  },
  {
   "cell_type": "code",
   "execution_count": 21,
   "metadata": {},
   "outputs": [
    {
     "data": {
      "image/png": "[encoded data removed]",
      "text/plain": [
       "<matplotlib.figure.Figure at 0x7f0ea152fb70>"
      ]
     },
     "metadata": {},
     "output_type": "display_data"
    }
   ],
   "source": [
    "axis = plot(l1_saliency, cmap='hot')\n",
    "axis.title('Saliency Map', fontsize=26, fontweight=\"bold\")\n",
    "axis.savefig(os.path.join(save_figure_dir, 'l1_saliency_map.jpg'), bbox_inches='tight', pad_inches = 0)"
   ]
  },
  {
   "cell_type": "code",
   "execution_count": null,
   "metadata": {},
   "outputs": [],
   "source": []
  }
 ],
 "metadata": {
  "kernelspec": {
   "display_name": "Python 3",
   "language": "python",
   "name": "python3"
  },
  "language_info": {
   "codemirror_mode": {
    "name": "ipython",
    "version": 3
   },
   "file_extension": ".py",
   "mimetype": "text/x-python",
   "name": "python",
   "nbconvert_exporter": "python",
   "pygments_lexer": "ipython3",
   "version": "3.5.2"
  }
 },
 "nbformat": 4,
 "nbformat_minor": 2
}
